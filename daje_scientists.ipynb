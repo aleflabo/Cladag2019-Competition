{
 "cells": [
  {
   "cell_type": "code",
   "execution_count": 1,
   "metadata": {},
   "outputs": [],
   "source": [
    "import pandas as pd\n",
    "import pandas_profiling \n",
    "from sklearn.impute import SimpleImputer\n",
    "import numpy as np\n",
    "import matplotlib.pyplot as plt\n",
    "import matplotlib\n",
    "%matplotlib inline\n",
    "import pandas as pd\n",
    "import pandas_profiling\n",
    "from sklearn import svm\n",
    "from sklearn.naive_bayes import GaussianNB  \n",
    "from sklearn.pipeline import make_pipeline\n",
    "from xgboost import XGBClassifier\n",
    "from sklearn.preprocessing import RobustScaler\n",
    "from sklearn.ensemble import RandomForestClassifier, ExtraTreesClassifier\n",
    "from sklearn.metrics import roc_auc_score\n",
    "from sklearn.metrics import roc_curve\n",
    "from sklearn.linear_model import LogisticRegression\n",
    "from sklearn import metrics\n",
    "from sklearn.model_selection import train_test_split, GridSearchCV\n",
    "from sklearn.metrics import classification_report\n",
    "from sklearn.metrics import roc_auc_score, precision_recall_curve, f1_score\n",
    "from sklearn.model_selection import train_test_split, GridSearchCV\n",
    "from sklearn.linear_model import LogisticRegression\n",
    "from sklearn import metrics\n",
    "from sklearn.metrics import roc_auc_score\n",
    "from sklearn.metrics import roc_curve\n",
    "from sklearn.metrics import classification_report\n",
    "from sklearn.cluster import KMeans\n"
   ]
  },
  {
   "cell_type": "code",
   "execution_count": 2,
   "metadata": {},
   "outputs": [],
   "source": [
    "#train reading\n",
    "train = pd.read_csv('dataset.csv', sep=';', low_memory=False )\n",
    "train = train.dropna(thresh=130)"
   ]
  },
  {
   "cell_type": "code",
   "execution_count": 3,
   "metadata": {},
   "outputs": [
    {
     "data": {
      "text/plain": [
       "0    98.58144\n",
       "1     1.41856\n",
       "Name: TARGET, dtype: float64"
      ]
     },
     "execution_count": 3,
     "metadata": {},
     "output_type": "execute_result"
    }
   ],
   "source": [
    "# UNBALANCED in percentage\n",
    "train['TARGET'].value_counts()/ train['TARGET'].value_counts().sum() *100"
   ]
  },
  {
   "cell_type": "code",
   "execution_count": 4,
   "metadata": {},
   "outputs": [
    {
     "data": {
      "text/plain": [
       "<matplotlib.axes._subplots.AxesSubplot at 0x2a18e20a518>"
      ]
     },
     "execution_count": 4,
     "metadata": {},
     "output_type": "execute_result"
    },
    {
     "data": {
      "image/png": "[encoded data removed]",
      "text/plain": [
       "<Figure size 432x288 with 1 Axes>"
      ]
     },
     "metadata": {
      "needs_background": "light"
     },
     "output_type": "display_data"
    }
   ],
   "source": [
    "#seeing the unbalanced\n",
    "train['TARGET'].value_counts().plot.bar()"
   ]
  },
  {
   "cell_type": "code",
   "execution_count": 5,
   "metadata": {},
   "outputs": [],
   "source": [
    "#reading the test\n",
    "test = pd.read_csv('test_dataset.csv', sep=';', low_memory=False )\n",
    "cod_num = test['COD_NUM_TEL']"
   ]
  },
  {
   "cell_type": "markdown",
   "metadata": {},
   "source": [
    "## features engineering"
   ]
  },
  {
   "cell_type": "code",
   "execution_count": 7,
   "metadata": {},
   "outputs": [
    {
     "data": {
      "image/png": "[encoded data removed]",
      "text/plain": [
       "<Figure size 432x288 with 1 Axes>"
      ]
     },
     "metadata": {
      "needs_background": "light"
     },
     "output_type": "display_data"
    }
   ],
   "source": [
    "# looking at single features\n",
    "train['NEEDS_RECLAMI_00_90_DAYS'].value_counts().plot.bar( )\n",
    "plt.show()"
   ]
  },
  {
   "cell_type": "code",
   "execution_count": 8,
   "metadata": {},
   "outputs": [
    {
     "name": "stderr",
     "output_type": "stream",
     "text": [
      "C:\\Users\\mccol\\Anaconda3\\lib\\site-packages\\pandas\\core\\indexing.py:205: SettingWithCopyWarning: \n",
      "A value is trying to be set on a copy of a slice from a DataFrame\n",
      "\n",
      "See the caveats in the documentation: http://pandas.pydata.org/pandas-docs/stable/user_guide/indexing.html#returning-a-view-versus-a-copy\n",
      "  self._setitem_with_indexer(indexer, value)\n"
     ]
    }
   ],
   "source": [
    "#transforming features \n",
    "\n",
    "train['NEEDS_RECLAMI_00_90_DAYS'].loc[(train['NEEDS_RECLAMI_00_90_DAYS'] <= 3) & (train['NEEDS_RECLAMI_00_90_DAYS'] > 0)] = 1\n",
    "train['NEEDS_RECLAMI_00_90_DAYS'].loc[train['NEEDS_RECLAMI_00_90_DAYS'] > 3] = 4\n",
    "train['NEEDS_RECLAMI_00_90_DAYS'].loc[train['NEEDS_RECLAMI_00_90_DAYS'] == 0] = 'no_complaints'\n",
    "train['NEEDS_RECLAMI_00_90_DAYS'].loc[train['NEEDS_RECLAMI_00_90_DAYS'] == 1] = 'many_complaints'\n",
    "train['NEEDS_RECLAMI_00_90_DAYS'].loc[train['NEEDS_RECLAMI_00_90_DAYS'] == 4] = 'outrage'\n",
    "\n",
    "\n",
    "\n",
    "test['NEEDS_RECLAMI_00_90_DAYS'].loc[(test['NEEDS_RECLAMI_00_90_DAYS'] <= 3) & (test['NEEDS_RECLAMI_00_90_DAYS'] > 0)] = 1\n",
    "test['NEEDS_RECLAMI_00_90_DAYS'].loc[test['NEEDS_RECLAMI_00_90_DAYS'] > 3] = 4\n",
    "\n",
    "test['NEEDS_RECLAMI_00_90_DAYS'].loc[test['NEEDS_RECLAMI_00_90_DAYS'] == 0] = 'no_complaints'\n",
    "test['NEEDS_RECLAMI_00_90_DAYS'].loc[test['NEEDS_RECLAMI_00_90_DAYS'] == 1] = 'many_complaints'\n",
    "test['NEEDS_RECLAMI_00_90_DAYS'].loc[test['NEEDS_RECLAMI_00_90_DAYS'] == 4] = 'outrage'\n"
   ]
  },
  {
   "cell_type": "code",
   "execution_count": 9,
   "metadata": {
    "scrolled": true
   },
   "outputs": [
    {
     "data": {
      "image/png": "[encoded data removed]",
      "text/plain": [
       "<Figure size 432x288 with 1 Axes>"
      ]
     },
     "metadata": {
      "needs_background": "light"
     },
     "output_type": "display_data"
    }
   ],
   "source": [
    "train['NEEDS_RECLAMI_00_90_DAYS'].value_counts().plot.bar()\n",
    "plt.show()"
   ]
  },
  {
   "cell_type": "markdown",
   "metadata": {},
   "source": [
    "# fill NaN\n",
    "\n",
    "filling nan values. first of all dealing with the numerical features with nan and then with the categorical ones"
   ]
  },
  {
   "cell_type": "code",
   "execution_count": 73,
   "metadata": {},
   "outputs": [],
   "source": [
    "\n",
    "numeric_feats = train.dtypes[train.dtypes != \"object\"].index\n",
    "\n",
    "features = train[numeric_feats]\n",
    "imp = SimpleImputer(strategy='median') \n",
    "\n",
    "imp = imp.fit(features)\n",
    "imputed = imp.transform(features)\n",
    "numeric_train = pd.DataFrame(imputed, columns= features.columns, index=train.index)"
   ]
  },
  {
   "cell_type": "code",
   "execution_count": 74,
   "metadata": {},
   "outputs": [],
   "source": [
    "categorical_train = train.dtypes[train.dtypes == \"object\"].index\n",
    "features = train[categorical_train]\n"
   ]
  },
  {
   "cell_type": "code",
   "execution_count": 76,
   "metadata": {},
   "outputs": [],
   "source": [
    "new_train = pd.concat([numeric_train, features], axis=1)"
   ]
  },
  {
   "cell_type": "code",
   "execution_count": 78,
   "metadata": {
    "scrolled": true
   },
   "outputs": [],
   "source": [
    "new_train['FLG_RECLAMO_COMMERCIALE'] = new_train['FLG_RECLAMO_COMMERCIALE'].fillna('not_given')"
   ]
  },
  {
   "cell_type": "code",
   "execution_count": 80,
   "metadata": {},
   "outputs": [],
   "source": [
    "new_train['NEEDS_RECLAMI_00_90_DAYS'] = new_train['NEEDS_RECLAMI_00_90_DAYS'].fillna('no_complaints')\n",
    "new_train['DES_STATO_INSOLVENZA'] = new_train['DES_STATO_INSOLVENZA'].fillna('Bonus')\n",
    "new_train['REGIONE'] = new_train['REGIONE'].fillna('tbd')\n",
    "new_train['PROVINCIA'] = new_train['PROVINCIA'].fillna('tbd')\n",
    "new_train['DESC_CANALE'] = new_train['DESC_CANALE'].fillna('CC 187')\n"
   ]
  },
  {
   "cell_type": "code",
   "execution_count": 81,
   "metadata": {
    "scrolled": true
   },
   "outputs": [],
   "source": [
    "new_train = new_train.dropna(subset=['S_VAR', 'S_TARGET'])\n",
    "\n",
    "train = new_train"
   ]
  },
  {
   "cell_type": "code",
   "execution_count": 82,
   "metadata": {},
   "outputs": [],
   "source": [
    "numeric_feats = test.dtypes[test.dtypes != \"object\"].index\n",
    "\n",
    "features = test[numeric_feats]\n",
    "imp = SimpleImputer(strategy='mean') #mean, most_frequent, constant\n",
    "\n",
    "imp = imp.fit(features)\n",
    "imputed = imp.transform(features)\n",
    "numeric_test = pd.DataFrame(imputed, columns= features.columns, index = test.index)"
   ]
  },
  {
   "cell_type": "code",
   "execution_count": 84,
   "metadata": {},
   "outputs": [],
   "source": [
    "categorical_test = test.dtypes[test.dtypes == \"object\"].index\n",
    "features = test[categorical_train]\n"
   ]
  },
  {
   "cell_type": "code",
   "execution_count": 85,
   "metadata": {},
   "outputs": [],
   "source": [
    "new_test = pd.concat([numeric_test, features], axis=1)"
   ]
  },
  {
   "cell_type": "code",
   "execution_count": 87,
   "metadata": {},
   "outputs": [],
   "source": [
    "new_test['FLG_RECLAMO_COMMERCIALE'] = new_test['FLG_RECLAMO_COMMERCIALE'].fillna('not_given')\n",
    "new_test['DES_STATO_INSOLVENZA'] = new_test['DES_STATO_INSOLVENZA'].fillna('Bonus')\n",
    "new_test['REGIONE'] = new_test['REGIONE'].fillna('tbd')\n",
    "new_test['PROVINCIA'] = new_test['PROVINCIA'].fillna('tbd')\n",
    "new_test['DESC_CANALE'] = new_test['DESC_CANALE'].fillna('CC 187')\n",
    "new_test['NEEDS_RECLAMI_00_90_DAYS'] = new_test['NEEDS_RECLAMI_00_90_DAYS'].fillna('no_complaints')\n"
   ]
  },
  {
   "cell_type": "code",
   "execution_count": 89,
   "metadata": {},
   "outputs": [],
   "source": [
    "new_test = new_test.dropna(subset=['S_VAR', 'S_TARGET'])\n",
    "\n",
    "\n",
    "test = new_test"
   ]
  },
  {
   "cell_type": "markdown",
   "metadata": {},
   "source": [
    "## drop columns\n",
    "\n",
    "dropping columns not helpful for our predictions"
   ]
  },
  {
   "cell_type": "code",
   "execution_count": 91,
   "metadata": {},
   "outputs": [],
   "source": [
    "train = train.drop(['COD_NUM_TEL', 'COD_CAP_IMPIANTO', 'COMUNE', 'DATA_ATT_OFFERTA'], axis=1)\n",
    "test = test.drop(['COD_NUM_TEL', 'COD_CAP_IMPIANTO', 'COMUNE', 'DATA_ATT_OFFERTA'], axis=1)"
   ]
  },
  {
   "cell_type": "code",
   "execution_count": 92,
   "metadata": {
    "scrolled": true
   },
   "outputs": [],
   "source": [
    "train['DAT_ATT_LINEA'] = train['DAT_ATT_LINEA'].apply(lambda x: x[:10])\n",
    "train[\"DAT_ATT_LINEA\"] = pd.to_numeric(train[\"DAT_ATT_LINEA\"].str.replace('-', ''))\n"
   ]
  },
  {
   "cell_type": "code",
   "execution_count": 94,
   "metadata": {},
   "outputs": [],
   "source": [
    "test['DAT_ATT_LINEA'] = test['DAT_ATT_LINEA'].apply(lambda x: x[:10])\n",
    "test[\"DAT_ATT_LINEA\"] = pd.to_numeric(test[\"DAT_ATT_LINEA\"].str.replace('-', ''))\n"
   ]
  },
  {
   "cell_type": "markdown",
   "metadata": {},
   "source": [
    "## NORMALIZATION"
   ]
  },
  {
   "cell_type": "code",
   "execution_count": 95,
   "metadata": {},
   "outputs": [],
   "source": [
    "# log trasformation of skewed numeric features\n",
    "from scipy.stats import skew\n",
    "import matplotlib.pyplot as plt\n",
    "\n",
    "\n",
    "numeric_feats = train.dtypes[train.dtypes != \"object\"].index\n",
    "\n",
    "l = []\n",
    "for i in numeric_feats:\n",
    "    if min(train[numeric_feats][i]) < 0:\n",
    "        l.append(i)\n",
    "        \n",
    "numeric_feats = set(numeric_feats) - set(l) - set(['TARGET'])\n",
    "\n",
    "features = train[numeric_feats].apply(lambda x: skew(x.dropna())) \n",
    "features = features[features > 0.5]\n",
    "features = features.index\n",
    "train[features] = np.log1p(train[features])\n"
   ]
  },
  {
   "cell_type": "code",
   "execution_count": 96,
   "metadata": {},
   "outputs": [],
   "source": [
    "# log trasformation of skewed numeric features\n",
    "numeric_feats = test.dtypes[test.dtypes != \"object\"].index\n",
    "\n",
    "l = []\n",
    "for i in numeric_feats:\n",
    "    if min(test[numeric_feats][i]) < 0:\n",
    "        l.append(i)\n",
    "        \n",
    "numeric_feats = set(numeric_feats) - set(l) - set(['TARGET'])\n",
    "\n",
    "features = test[numeric_feats].apply(lambda x: skew(x.dropna())) \n",
    "features = features[features > 0.5]\n",
    "features = features.index\n",
    "test[features] = np.log1p(test[features])"
   ]
  },
  {
   "cell_type": "markdown",
   "metadata": {},
   "source": [
    "## GET DUMMIES\n",
    "\n",
    "transformation of categorical features into binary-numerical "
   ]
  },
  {
   "cell_type": "code",
   "execution_count": 97,
   "metadata": {
    "scrolled": true
   },
   "outputs": [],
   "source": [
    "y = train['TARGET']\n",
    "train = train.drop(['TARGET'], axis = 1)"
   ]
  },
  {
   "cell_type": "code",
   "execution_count": 98,
   "metadata": {},
   "outputs": [],
   "source": [
    "ui = pd.get_dummies(pd.concat([train,test], ignore_index=True) )"
   ]
  },
  {
   "cell_type": "code",
   "execution_count": 99,
   "metadata": {},
   "outputs": [],
   "source": [
    "train = ui.iloc[:len(train)]\n",
    "test = ui.iloc[len(train):]"
   ]
  },
  {
   "cell_type": "code",
   "execution_count": 100,
   "metadata": {},
   "outputs": [
    {
     "data": {
      "text/plain": [
       "((94321, 624), (28435, 624))"
      ]
     },
     "execution_count": 100,
     "metadata": {},
     "output_type": "execute_result"
    }
   ],
   "source": [
    "train.shape, test.shape"
   ]
  },
  {
   "cell_type": "markdown",
   "metadata": {},
   "source": [
    "## DIMENSIONALITY REDUCTION\n",
    "\n",
    "dropping columns that makes dataframe too sparse"
   ]
  },
  {
   "cell_type": "code",
   "execution_count": 101,
   "metadata": {},
   "outputs": [
    {
     "name": "stdout",
     "output_type": "stream",
     "text": [
      "train (94321, 125) \n",
      " y (94321,) \n",
      " test (28435, 125)\n"
     ]
    }
   ],
   "source": [
    "overfit_list = []\n",
    "\n",
    "for i in train.columns:\n",
    "    counts = train[i].value_counts()\n",
    "    zeros = counts.iloc[0]\n",
    "    if zeros / len(train) * 100 > 80:\n",
    "\n",
    "        overfit_list.append(i)\n",
    "\n",
    "overfit_list = list(overfit_list)\n",
    "train = train.drop(overfit_list, axis = 1).copy()\n",
    "test = test.drop(overfit_list, axis=1).copy()\n",
    "\n",
    "\n",
    "print('train', train.shape,'\\n', 'y', y.shape, '\\n', 'test', test.shape)"
   ]
  },
  {
   "cell_type": "markdown",
   "metadata": {},
   "source": [
    "## SCALER\n",
    "\n",
    "scaling features to same magnitude"
   ]
  },
  {
   "cell_type": "code",
   "execution_count": 102,
   "metadata": {},
   "outputs": [],
   "source": [
    "from sklearn.preprocessing import RobustScaler\n",
    "col = train.columns\n",
    "cols = test.columns\n",
    "train = RobustScaler().fit(train).transform(train)\n",
    "test = RobustScaler().fit(test).transform(test)"
   ]
  },
  {
   "cell_type": "code",
   "execution_count": 103,
   "metadata": {},
   "outputs": [],
   "source": [
    "train = pd.DataFrame(train, columns= col )\n",
    "test = pd.DataFrame(test, columns= col )"
   ]
  },
  {
   "cell_type": "markdown",
   "metadata": {},
   "source": [
    "## OVERSAMPLING\n",
    "\n",
    "rebalancing the dataframe with SMOTE"
   ]
  },
  {
   "cell_type": "code",
   "execution_count": 104,
   "metadata": {},
   "outputs": [],
   "source": [
    "from imblearn.over_sampling import SMOTE, SVMSMOTE, KMeansSMOTE, BorderlineSMOTE\n",
    "\n",
    "X_resampled, y_resampled = SMOTE().fit_resample(train, y)"
   ]
  },
  {
   "cell_type": "code",
   "execution_count": 105,
   "metadata": {},
   "outputs": [
    {
     "data": {
      "text/plain": [
       "(92983.0, 92983.0)"
      ]
     },
     "execution_count": 105,
     "metadata": {},
     "output_type": "execute_result"
    }
   ],
   "source": [
    "len(y_resampled)/2, y_resampled.sum()"
   ]
  },
  {
   "cell_type": "code",
   "execution_count": 106,
   "metadata": {},
   "outputs": [],
   "source": [
    "X_resampled = pd.DataFrame(X_resampled, columns= col )\n"
   ]
  },
  {
   "cell_type": "markdown",
   "metadata": {},
   "source": [
    "## CV SPLITTING "
   ]
  },
  {
   "cell_type": "code",
   "execution_count": 52,
   "metadata": {},
   "outputs": [],
   "source": [
    "X_train, X_test, y_train, y_test = train_test_split(X_resampled, y_resampled, test_size=0.25, random_state=0)  \n"
   ]
  },
  {
   "cell_type": "markdown",
   "metadata": {},
   "source": [
    "## MODEL SELECTION with grid search"
   ]
  },
  {
   "cell_type": "code",
   "execution_count": 97,
   "metadata": {},
   "outputs": [
    {
     "name": "stderr",
     "output_type": "stream",
     "text": [
      "C:\\Users\\mccol\\Anaconda3\\lib\\site-packages\\sklearn\\linear_model\\logistic.py:432: FutureWarning: Default solver will be changed to 'lbfgs' in 0.22. Specify a solver to silence this warning.\n",
      "  FutureWarning)\n"
     ]
    },
    {
     "data": {
      "text/plain": [
       "LogisticRegression(C=1.0, class_weight=None, dual=False, fit_intercept=True,\n",
       "                   intercept_scaling=1, l1_ratio=None, max_iter=100,\n",
       "                   multi_class='warn', n_jobs=None, penalty='l2',\n",
       "                   random_state=None, solver='warn', tol=0.0001, verbose=0,\n",
       "                   warm_start=False)"
      ]
     },
     "execution_count": 97,
     "metadata": {},
     "output_type": "execute_result"
    }
   ],
   "source": [
    "\n",
    "logreg = LogisticRegression()\n",
    "logreg.fit(X_train, y_train)\n"
   ]
  },
  {
   "cell_type": "code",
   "execution_count": 98,
   "metadata": {},
   "outputs": [],
   "source": [
    "y_pred = logreg.predict(X_test)\n"
   ]
  },
  {
   "cell_type": "code",
   "execution_count": 104,
   "metadata": {},
   "outputs": [
    {
     "data": {
      "image/png": "[encoded data removed]",
      "text/plain": [
       "<Figure size 432x288 with 1 Axes>"
      ]
     },
     "metadata": {
      "needs_background": "light"
     },
     "output_type": "display_data"
    }
   ],
   "source": [
    "logit_roc_auc = roc_auc_score(y_test, logreg.predict(X_test))\n",
    "fpr, tpr, thresholds = roc_curve(y_test, logreg.predict_proba(X_test)[:,1])\n",
    "plt.figure()\n",
    "plt.plot(fpr, tpr, label='Logistic Regression (area = %0.2f)' % logit_roc_auc)\n",
    "plt.plot([0, 1], [0, 1],'r--')\n",
    "plt.xlim([0.0, 1.0])\n",
    "plt.ylim([0.0, 1.05])\n",
    "plt.xlabel('False Positive Rate')\n",
    "plt.ylabel('True Positive Rate')\n",
    "plt.title('Receiver operating characteristic')\n",
    "plt.legend(loc=\"lower right\")\n",
    "plt.savefig('Log_ROC')\n",
    "plt.show()\n"
   ]
  },
  {
   "cell_type": "code",
   "execution_count": 100,
   "metadata": {},
   "outputs": [
    {
     "name": "stdout",
     "output_type": "stream",
     "text": [
      "              precision    recall  f1-score   support\n",
      "\n",
      "         0.0       0.64      0.62      0.63     23102\n",
      "         1.0       0.63      0.66      0.64     23390\n",
      "\n",
      "    accuracy                           0.64     46492\n",
      "   macro avg       0.64      0.64      0.64     46492\n",
      "weighted avg       0.64      0.64      0.64     46492\n",
      "\n"
     ]
    }
   ],
   "source": [
    "print(classification_report(y_test, y_pred))\n"
   ]
  },
  {
   "cell_type": "code",
   "execution_count": 153,
   "metadata": {},
   "outputs": [
    {
     "data": {
      "image/png": "[encoded data removed]",
      "text/plain": [
       "<Figure size 432x288 with 1 Axes>"
      ]
     },
     "metadata": {
      "needs_background": "light"
     },
     "output_type": "display_data"
    }
   ],
   "source": [
    "rfr = RandomForestClassifier(n_estimators = 500, random_state=1, max_depth=3)\n",
    "rfr.fit(X_train, y_train)\n",
    "y_pred = rfr.predict(X_test)\n",
    "\n",
    "rfr_roc_auc = roc_auc_score(y_test, rfr.predict(X_test))\n",
    "fpr, tpr, thresholds = roc_curve(y_test, rfr.predict_proba(X_test)[:,1])\n",
    "plt.figure()\n",
    "plt.plot(fpr, tpr, label='Random Forest Regression (area = %0.2f)' % rfr_roc_auc)\n",
    "plt.plot([0, 1], [0, 1],'r--')\n",
    "plt.xlim([0.0, 1.0])\n",
    "plt.ylim([0.0, 1.05])\n",
    "plt.xlabel('False Positive Rate')\n",
    "plt.ylabel('True Positive Rate')\n",
    "plt.title('Receiver operating characteristic')\n",
    "plt.legend(loc=\"lower right\")\n",
    "plt.savefig('Log_ROC')\n",
    "plt.show()\n"
   ]
  },
  {
   "cell_type": "code",
   "execution_count": 154,
   "metadata": {},
   "outputs": [
    {
     "name": "stdout",
     "output_type": "stream",
     "text": [
      "              precision    recall  f1-score   support\n",
      "\n",
      "         0.0       0.89      0.90      0.89     23102\n",
      "         1.0       0.90      0.89      0.89     23390\n",
      "\n",
      "    accuracy                           0.89     46492\n",
      "   macro avg       0.89      0.89      0.89     46492\n",
      "weighted avg       0.89      0.89      0.89     46492\n",
      "\n"
     ]
    }
   ],
   "source": [
    "print(classification_report(y_test, y_pred))"
   ]
  },
  {
   "cell_type": "code",
   "execution_count": 155,
   "metadata": {},
   "outputs": [
    {
     "data": {
      "image/png": "[encoded data removed]",
      "text/plain": [
       "<Figure size 432x288 with 1 Axes>"
      ]
     },
     "metadata": {
      "needs_background": "light"
     },
     "output_type": "display_data"
    }
   ],
   "source": [
    "rfr = RandomForestClassifier(n_estimators = 500, random_state=1, max_depth=5)\n",
    "rfr.fit(X_train, y_train)\n",
    "y_pred = rfr.predict(X_test)\n",
    "\n",
    "rfr_roc_auc = roc_auc_score(y_test, rfr.predict(X_test))\n",
    "fpr, tpr, thresholds = roc_curve(y_test, rfr.predict_proba(X_test)[:,1])\n",
    "plt.figure()\n",
    "plt.plot(fpr, tpr, label='Random Forest Regression (area = %0.2f)' % rfr_roc_auc)\n",
    "plt.plot([0, 1], [0, 1],'r--')\n",
    "plt.xlim([0.0, 1.0])\n",
    "plt.ylim([0.0, 1.05])\n",
    "plt.xlabel('False Positive Rate')\n",
    "plt.ylabel('True Positive Rate')\n",
    "plt.title('Receiver operating characteristic')\n",
    "plt.legend(loc=\"lower right\")\n",
    "plt.savefig('Log_ROC')\n",
    "plt.show()\n"
   ]
  },
  {
   "cell_type": "code",
   "execution_count": 156,
   "metadata": {},
   "outputs": [
    {
     "name": "stdout",
     "output_type": "stream",
     "text": [
      "              precision    recall  f1-score   support\n",
      "\n",
      "         0.0       0.94      0.96      0.95     23102\n",
      "         1.0       0.96      0.94      0.95     23390\n",
      "\n",
      "    accuracy                           0.95     46492\n",
      "   macro avg       0.95      0.95      0.95     46492\n",
      "weighted avg       0.95      0.95      0.95     46492\n",
      "\n"
     ]
    }
   ],
   "source": [
    "print(classification_report(y_test, y_pred))"
   ]
  },
  {
   "cell_type": "code",
   "execution_count": 165,
   "metadata": {},
   "outputs": [
    {
     "data": {
      "image/png": "[encoded data removed]",
      "text/plain": [
       "<Figure size 432x288 with 1 Axes>"
      ]
     },
     "metadata": {
      "needs_background": "light"
     },
     "output_type": "display_data"
    }
   ],
   "source": [
    "rfr = RandomForestClassifier(n_estimators = 500, random_state=1, max_depth=7)\n",
    "rfr.fit(X_train, y_train)\n",
    "y_pred = rfr.predict(X_test)\n",
    "\n",
    "rfr_roc_auc = roc_auc_score(y_test, rfr.predict(X_test))\n",
    "fpr, tpr, thresholds = roc_curve(y_test, rfr.predict_proba(X_test)[:,1])\n",
    "plt.figure()\n",
    "plt.plot(fpr, tpr, label='Random Forest Regression (area = %0.2f)' % rfr_roc_auc)\n",
    "plt.plot([0, 1], [0, 1],'r--')\n",
    "plt.xlim([0.0, 1.0])\n",
    "plt.ylim([0.0, 1.05])\n",
    "plt.xlabel('False Positive Rate')\n",
    "plt.ylabel('True Positive Rate')\n",
    "plt.title('Receiver operating characteristic')\n",
    "plt.legend(loc=\"lower right\")\n",
    "plt.savefig('Log_ROC')\n",
    "plt.show()\n"
   ]
  },
  {
   "cell_type": "code",
   "execution_count": 166,
   "metadata": {},
   "outputs": [
    {
     "name": "stdout",
     "output_type": "stream",
     "text": [
      "              precision    recall  f1-score   support\n",
      "\n",
      "         0.0       0.97      0.99      0.98     23102\n",
      "         1.0       0.99      0.97      0.98     23390\n",
      "\n",
      "    accuracy                           0.98     46492\n",
      "   macro avg       0.98      0.98      0.98     46492\n",
      "weighted avg       0.98      0.98      0.98     46492\n",
      "\n"
     ]
    }
   ],
   "source": [
    "print(classification_report(y_test, y_pred))"
   ]
  },
  {
   "cell_type": "code",
   "execution_count": 335,
   "metadata": {},
   "outputs": [
    {
     "data": {
      "text/plain": [
       "array([0.38274184, 0.41838073, 0.44768363, ..., 0.41887965, 0.24820655,\n",
       "       0.32667523])"
      ]
     },
     "execution_count": 335,
     "metadata": {},
     "output_type": "execute_result"
    }
   ],
   "source": [
    "rfr = RandomForestClassifier(n_estimators = 500, random_state=1, max_depth=5)\n",
    "rfr.fit(X_resampled, y_resampled)\n",
    "y_pred = rfr.predict_proba(test)[:,1]\n",
    "y_pred"
   ]
  },
  {
   "cell_type": "code",
   "execution_count": 337,
   "metadata": {},
   "outputs": [
    {
     "data": {
      "text/html": [
       "<div>\n",
       "<style scoped>\n",
       "    .dataframe tbody tr th:only-of-type {\n",
       "        vertical-align: middle;\n",
       "    }\n",
       "\n",
       "    .dataframe tbody tr th {\n",
       "        vertical-align: top;\n",
       "    }\n",
       "\n",
       "    .dataframe thead th {\n",
       "        text-align: right;\n",
       "    }\n",
       "</style>\n",
       "<table border=\"1\" class=\"dataframe\">\n",
       "  <thead>\n",
       "    <tr style=\"text-align: right;\">\n",
       "      <th></th>\n",
       "      <th>importance</th>\n",
       "    </tr>\n",
       "  </thead>\n",
       "  <tbody>\n",
       "    <tr>\n",
       "      <td>AGING_FASCE_LINEA_Oltre 10 anni</td>\n",
       "      <td>0.091431</td>\n",
       "    </tr>\n",
       "    <tr>\n",
       "      <td>DES_CAUSALE_ATT_LINEA_Attivazione</td>\n",
       "      <td>0.063659</td>\n",
       "    </tr>\n",
       "    <tr>\n",
       "      <td>FLAG_INTEGRATO_CONVERGENTE_INTEGRATO NON CONVERGENTE</td>\n",
       "      <td>0.060209</td>\n",
       "    </tr>\n",
       "    <tr>\n",
       "      <td>DES_CAUSALE_ATT_LINEA_*ND</td>\n",
       "      <td>0.058846</td>\n",
       "    </tr>\n",
       "    <tr>\n",
       "      <td>FASCIA_ETA_SINTESI_da 60 a 70</td>\n",
       "      <td>0.048596</td>\n",
       "    </tr>\n",
       "    <tr>\n",
       "      <td>DESC_CANALE_CC 187</td>\n",
       "      <td>0.046764</td>\n",
       "    </tr>\n",
       "    <tr>\n",
       "      <td>DURATA_PROMO_non in promo</td>\n",
       "      <td>0.045501</td>\n",
       "    </tr>\n",
       "    <tr>\n",
       "      <td>PROMO</td>\n",
       "      <td>0.041030</td>\n",
       "    </tr>\n",
       "    <tr>\n",
       "      <td>PROMO_ATTIVE_nessuna</td>\n",
       "      <td>0.037962</td>\n",
       "    </tr>\n",
       "    <tr>\n",
       "      <td>FLG_FATTURE_SCOPERTE_Y</td>\n",
       "      <td>0.036698</td>\n",
       "    </tr>\n",
       "  </tbody>\n",
       "</table>\n",
       "</div>"
      ],
      "text/plain": [
       "                                                    importance\n",
       "AGING_FASCE_LINEA_Oltre 10 anni                       0.091431\n",
       "DES_CAUSALE_ATT_LINEA_Attivazione                     0.063659\n",
       "FLAG_INTEGRATO_CONVERGENTE_INTEGRATO NON CONVER...    0.060209\n",
       "DES_CAUSALE_ATT_LINEA_*ND                             0.058846\n",
       "FASCIA_ETA_SINTESI_da 60 a 70                         0.048596\n",
       "DESC_CANALE_CC 187                                    0.046764\n",
       "DURATA_PROMO_non in promo                             0.045501\n",
       "PROMO                                                 0.041030\n",
       "PROMO_ATTIVE_nessuna                                  0.037962\n",
       "FLG_FATTURE_SCOPERTE_Y                                0.036698"
      ]
     },
     "execution_count": 337,
     "metadata": {},
     "output_type": "execute_result"
    }
   ],
   "source": [
    "pd.DataFrame(rfr.feature_importances_, index = X_resampled.columns, columns=['importance']).sort_values('importance', ascending=False).head(10)\n"
   ]
  },
  {
   "cell_type": "code",
   "execution_count": 230,
   "metadata": {},
   "outputs": [
    {
     "data": {
      "text/plain": [
       "array([0.33522044, 0.36017614, 0.42908362, ..., 0.38482989, 0.1890752 ,\n",
       "       0.27123148])"
      ]
     },
     "execution_count": 230,
     "metadata": {},
     "output_type": "execute_result"
    }
   ],
   "source": [
    "rfr = RandomForestClassifier(n_estimators = 500, random_state=1, max_depth=7)\n",
    "rfr.fit(X_resampled, y_resampled)\n",
    "y_pred = rfr.predict_proba(test)[:,1]\n",
    "y_pred"
   ]
  },
  {
   "cell_type": "code",
   "execution_count": null,
   "metadata": {},
   "outputs": [],
   "source": [
    "result = pd.DataFrame()\n",
    "\n",
    "result['COD_NUM_TEL'] = cod_num\n",
    "result['TARGET_PROB'] = y_pred\n",
    "result.to_csv('prediction_DajeScientists.csv')"
   ]
  },
  {
   "cell_type": "markdown",
   "metadata": {},
   "source": [
    "# clustering\n",
    "unsupervised analysis"
   ]
  },
  {
   "cell_type": "code",
   "execution_count": null,
   "metadata": {},
   "outputs": [],
   "source": [
    "rfr = RandomForestClassifier(n_estimators = 500, random_state=1, max_depth=7)\n",
    "rfr.fit(X_resampled, y_resampled)\n",
    "y_pred = rfr.predict(test)\n"
   ]
  },
  {
   "cell_type": "code",
   "execution_count": null,
   "metadata": {},
   "outputs": [],
   "source": [
    "  \n",
    "kmeans = KMeans(n_clusters=2, init='k-means++', max_iter=300, random_state=5).fit(test)\n",
    "centroids = kmeans.cluster_centers_\n"
   ]
  },
  {
   "cell_type": "code",
   "execution_count": 152,
   "metadata": {},
   "outputs": [],
   "source": [
    "clus = pd.DataFrame()\n",
    "clus['CLUSTER'] = kmeans.labels_.astype(float)\n",
    "\n",
    "clus['PRED'] = y_pred"
   ]
  },
  {
   "cell_type": "code",
   "execution_count": 153,
   "metadata": {},
   "outputs": [],
   "source": [
    "not_equal = 0\n",
    "index = []\n",
    "ind = []\n",
    "for i in clus.index:\n",
    "    if (clus['CLUSTER'].iloc[i] != clus['PRED'].iloc[i]) :\n",
    "        index.append(i)\n",
    "        not_equal += 1\n",
    "    if (clus['CLUSTER'].iloc[i] == clus['PRED'].iloc[i]) & (clus['PRED'].iloc[i] == 1):\n",
    "        ind.append(i)"
   ]
  },
  {
   "cell_type": "code",
   "execution_count": 154,
   "metadata": {},
   "outputs": [
    {
     "data": {
      "text/html": [
       "<div>\n",
       "<style scoped>\n",
       "    .dataframe tbody tr th:only-of-type {\n",
       "        vertical-align: middle;\n",
       "    }\n",
       "\n",
       "    .dataframe tbody tr th {\n",
       "        vertical-align: top;\n",
       "    }\n",
       "\n",
       "    .dataframe thead th {\n",
       "        text-align: right;\n",
       "    }\n",
       "</style>\n",
       "<table border=\"1\" class=\"dataframe\">\n",
       "  <thead>\n",
       "    <tr style=\"text-align: right;\">\n",
       "      <th></th>\n",
       "      <th>CLUSTER</th>\n",
       "      <th>PRED</th>\n",
       "      <th>CLUSTER++</th>\n",
       "    </tr>\n",
       "  </thead>\n",
       "  <tbody>\n",
       "    <tr>\n",
       "      <td>13</td>\n",
       "      <td>0.0</td>\n",
       "      <td>1.0</td>\n",
       "      <td>0.0</td>\n",
       "    </tr>\n",
       "    <tr>\n",
       "      <td>29</td>\n",
       "      <td>0.0</td>\n",
       "      <td>1.0</td>\n",
       "      <td>0.0</td>\n",
       "    </tr>\n",
       "    <tr>\n",
       "      <td>89</td>\n",
       "      <td>0.0</td>\n",
       "      <td>1.0</td>\n",
       "      <td>0.0</td>\n",
       "    </tr>\n",
       "    <tr>\n",
       "      <td>197</td>\n",
       "      <td>0.0</td>\n",
       "      <td>1.0</td>\n",
       "      <td>0.0</td>\n",
       "    </tr>\n",
       "    <tr>\n",
       "      <td>225</td>\n",
       "      <td>1.0</td>\n",
       "      <td>0.0</td>\n",
       "      <td>1.0</td>\n",
       "    </tr>\n",
       "    <tr>\n",
       "      <td>...</td>\n",
       "      <td>...</td>\n",
       "      <td>...</td>\n",
       "      <td>...</td>\n",
       "    </tr>\n",
       "    <tr>\n",
       "      <td>28157</td>\n",
       "      <td>0.0</td>\n",
       "      <td>1.0</td>\n",
       "      <td>0.0</td>\n",
       "    </tr>\n",
       "    <tr>\n",
       "      <td>28164</td>\n",
       "      <td>0.0</td>\n",
       "      <td>1.0</td>\n",
       "      <td>0.0</td>\n",
       "    </tr>\n",
       "    <tr>\n",
       "      <td>28166</td>\n",
       "      <td>1.0</td>\n",
       "      <td>0.0</td>\n",
       "      <td>1.0</td>\n",
       "    </tr>\n",
       "    <tr>\n",
       "      <td>28193</td>\n",
       "      <td>0.0</td>\n",
       "      <td>1.0</td>\n",
       "      <td>0.0</td>\n",
       "    </tr>\n",
       "    <tr>\n",
       "      <td>28325</td>\n",
       "      <td>0.0</td>\n",
       "      <td>1.0</td>\n",
       "      <td>0.0</td>\n",
       "    </tr>\n",
       "  </tbody>\n",
       "</table>\n",
       "<p>1233 rows × 3 columns</p>\n",
       "</div>"
      ],
      "text/plain": [
       "       CLUSTER  PRED  CLUSTER++\n",
       "13         0.0   1.0        0.0\n",
       "29         0.0   1.0        0.0\n",
       "89         0.0   1.0        0.0\n",
       "197        0.0   1.0        0.0\n",
       "225        1.0   0.0        1.0\n",
       "...        ...   ...        ...\n",
       "28157      0.0   1.0        0.0\n",
       "28164      0.0   1.0        0.0\n",
       "28166      1.0   0.0        1.0\n",
       "28193      0.0   1.0        0.0\n",
       "28325      0.0   1.0        0.0\n",
       "\n",
       "[1233 rows x 3 columns]"
      ]
     },
     "execution_count": 154,
     "metadata": {},
     "output_type": "execute_result"
    }
   ],
   "source": [
    "clus.iloc[index]"
   ]
  },
  {
   "cell_type": "code",
   "execution_count": null,
   "metadata": {},
   "outputs": [],
   "source": []
  }
 ],
 "metadata": {
  "kernelspec": {
   "display_name": "Python 3",
   "language": "python",
   "name": "python3"
  },
  "language_info": {
   "codemirror_mode": {
    "name": "ipython",
    "version": 3
   },
   "file_extension": ".py",
   "mimetype": "text/x-python",
   "name": "python",
   "nbconvert_exporter": "python",
   "pygments_lexer": "ipython3",
   "version": "3.6.9"
  }
 },
 "nbformat": 4,
 "nbformat_minor": 2
}
